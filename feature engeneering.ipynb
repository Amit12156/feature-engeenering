{
 "cells": [
  {
   "cell_type": "markdown",
   "id": "e4b2d45d",
   "metadata": {},
   "source": [
    "# 📚 Machine Learning Assignment"
   ]
  },
  {
   "cell_type": "markdown",
   "id": "c709536f",
   "metadata": {},
   "source": [
    "### 1. What is a parameter?"
   ]
  },
  {
   "cell_type": "code",
   "execution_count": null,
   "id": "ddcfd43e",
   "metadata": {},
   "outputs": [],
   "source": [
    "# A parameter is a learned internal variable of a model.\n",
    "# Example: weights in a neural network."
   ]
  },
  {
   "cell_type": "markdown",
   "id": "ea221d87",
   "metadata": {},
   "source": [
    "### 2. What is correlation?"
   ]
  },
  {
   "cell_type": "code",
   "execution_count": null,
   "id": "9eefc5de",
   "metadata": {},
   "outputs": [],
   "source": [
    "# Correlation measures the strength and direction of a linear relationship between two variables.\n",
    "import pandas as pd\n",
    "# Example correlation\n",
    "# df.corr()"
   ]
  },
  {
   "cell_type": "markdown",
   "id": "52600f14",
   "metadata": {},
   "source": [
    "### 3. What does negative correlation mean?"
   ]
  },
  {
   "cell_type": "markdown",
   "id": "f268d19e",
   "metadata": {},
   "source": [
    "A negative correlation means that as one variable increases, the other decreases."
   ]
  },
  {
   "cell_type": "markdown",
   "id": "d889eef1",
   "metadata": {},
   "source": [
    "### 4. Define Machine Learning. What are the main components?"
   ]
  },
  {
   "cell_type": "markdown",
   "id": "0ca4d717",
   "metadata": {},
   "source": [
    "- Machine learning is a field of AI where models learn patterns from data.\n",
    "- Main components: Data, Model, Algorithm, Evaluation."
   ]
  },
  {
   "cell_type": "markdown",
   "id": "279aa9ac",
   "metadata": {},
   "source": [
    "### 5. How does loss value help in determining model quality?"
   ]
  },
  {
   "cell_type": "markdown",
   "id": "c254fdb4",
   "metadata": {},
   "source": [
    "Loss value quantifies error between predicted and actual values. Lower loss indicates a better model."
   ]
  },
  {
   "cell_type": "markdown",
   "id": "e1298359",
   "metadata": {},
   "source": [
    "### 6. What are continuous and categorical variables?"
   ]
  },
  {
   "cell_type": "markdown",
   "id": "81e22c20",
   "metadata": {},
   "source": [
    "- Continuous: Numeric values (height, weight).\n",
    "- Categorical: Category labels (gender, color)."
   ]
  },
  {
   "cell_type": "markdown",
   "id": "a3957e37",
   "metadata": {},
   "source": [
    "### 7. How do we handle categorical variables?"
   ]
  },
  {
   "cell_type": "code",
   "execution_count": null,
   "id": "69015d77",
   "metadata": {},
   "outputs": [],
   "source": [
    "from sklearn.preprocessing import LabelEncoder, OneHotEncoder\n",
    "# Example encoding\n",
    "le = LabelEncoder()\n",
    "ohe = OneHotEncoder()"
   ]
  },
  {
   "cell_type": "markdown",
   "id": "fc707418",
   "metadata": {},
   "source": [
    "### 8. What is training and testing a dataset?"
   ]
  },
  {
   "cell_type": "markdown",
   "id": "5c140d01",
   "metadata": {},
   "source": [
    "Training: Fit model to data. Testing: Evaluate on unseen data."
   ]
  },
  {
   "cell_type": "markdown",
   "id": "400f0ef5",
   "metadata": {},
   "source": [
    "### 9. What is sklearn.preprocessing?"
   ]
  },
  {
   "cell_type": "code",
   "execution_count": null,
   "id": "44d45bbb",
   "metadata": {},
   "outputs": [],
   "source": [
    "# sklearn.preprocessing handles data transformations such as scaling and encoding."
   ]
  },
  {
   "cell_type": "markdown",
   "id": "3a248cc6",
   "metadata": {},
   "source": [
    "### 10. What is a Test set?"
   ]
  },
  {
   "cell_type": "markdown",
   "id": "84581fab",
   "metadata": {},
   "source": [
    "A test set evaluates model performance after training."
   ]
  },
  {
   "cell_type": "markdown",
   "id": "dbbfbb47",
   "metadata": {},
   "source": [
    "### 11. How do we split data for model fitting?"
   ]
  },
  {
   "cell_type": "code",
   "execution_count": null,
   "id": "a03a26ea",
   "metadata": {},
   "outputs": [],
   "source": [
    "from sklearn.model_selection import train_test_split\n",
    "X_train, X_test, y_train, y_test = train_test_split(X, y, test_size=0.2)"
   ]
  },
  {
   "cell_type": "markdown",
   "id": "79716a53",
   "metadata": {},
   "source": [
    "### 12. How do you approach a Machine Learning problem?"
   ]
  },
  {
   "cell_type": "markdown",
   "id": "c0aad569",
   "metadata": {},
   "source": [
    "Understand problem, collect data, EDA, choose model, train, evaluate, deploy."
   ]
  },
  {
   "cell_type": "markdown",
   "id": "10a795f1",
   "metadata": {},
   "source": [
    "### 13. Why perform EDA before fitting a model?"
   ]
  },
  {
   "cell_type": "markdown",
   "id": "a5cb522b",
   "metadata": {},
   "source": [
    "EDA finds patterns, outliers, missing values, improving model quality."
   ]
  },
  {
   "cell_type": "markdown",
   "id": "e2360f02",
   "metadata": {},
   "source": [
    "### 14. How can you find correlation in Python?"
   ]
  },
  {
   "cell_type": "code",
   "execution_count": null,
   "id": "382b1bbd",
   "metadata": {},
   "outputs": [],
   "source": [
    "import pandas as pd\n",
    "df.corr()"
   ]
  },
  {
   "cell_type": "markdown",
   "id": "c36b9b9a",
   "metadata": {},
   "source": [
    "### 15. What is causation? Difference with correlation?"
   ]
  },
  {
   "cell_type": "markdown",
   "id": "a082df88",
   "metadata": {},
   "source": [
    "Correlation: variables move together. Causation: one variable affects another. E.g., ice cream sales and drowning."
   ]
  },
  {
   "cell_type": "markdown",
   "id": "f9e8b9b0",
   "metadata": {},
   "source": [
    "### 16. What is an Optimizer? Types?"
   ]
  },
  {
   "cell_type": "code",
   "execution_count": null,
   "id": "43e48793",
   "metadata": {},
   "outputs": [],
   "source": [
    "from tensorflow.keras.optimizers import Adam, SGD\n",
    "opt = Adam(learning_rate=0.001)"
   ]
  },
  {
   "cell_type": "markdown",
   "id": "6d525de5",
   "metadata": {},
   "source": [
    "### 17. What is sklearn.linear_model?"
   ]
  },
  {
   "cell_type": "code",
   "execution_count": null,
   "id": "f82d5346",
   "metadata": {},
   "outputs": [],
   "source": [
    "from sklearn.linear_model import LinearRegression, LogisticRegression"
   ]
  },
  {
   "cell_type": "markdown",
   "id": "19907aea",
   "metadata": {},
   "source": [
    "### 18. What does model.fit() do?"
   ]
  },
  {
   "cell_type": "markdown",
   "id": "ed56c9c7",
   "metadata": {},
   "source": [
    "Fits the model to data. Arguments: X, y."
   ]
  },
  {
   "cell_type": "markdown",
   "id": "1bc2f74e",
   "metadata": {},
   "source": [
    "### 19. What does model.predict() do?"
   ]
  },
  {
   "cell_type": "markdown",
   "id": "a3f73944",
   "metadata": {},
   "source": [
    "Predicts for new data. Arguments: X."
   ]
  },
  {
   "cell_type": "markdown",
   "id": "11baf9ad",
   "metadata": {},
   "source": [
    "### 20. What is feature scaling? How does it help?"
   ]
  },
  {
   "cell_type": "markdown",
   "id": "b0d3af64",
   "metadata": {},
   "source": [
    "Feature scaling standardizes data, improving model performance."
   ]
  },
  {
   "cell_type": "code",
   "execution_count": null,
   "id": "9e4e991c",
   "metadata": {},
   "outputs": [],
   "source": [
    "from sklearn.preprocessing import StandardScaler\n",
    "scaler = StandardScaler()\n",
    "X_scaled = scaler.fit_transform(X)"
   ]
  },
  {
   "cell_type": "markdown",
   "id": "201cc9e3",
   "metadata": {},
   "source": [
    "### 21. Explain data encoding."
   ]
  },
  {
   "cell_type": "markdown",
   "id": "7cdb081a",
   "metadata": {},
   "source": [
    "Converts categorical variables to numerical. Techniques: Label Encoding, One-Hot Encoding."
   ]
  }
 ],
 "metadata": {},
 "nbformat": 4,
 "nbformat_minor": 5
}